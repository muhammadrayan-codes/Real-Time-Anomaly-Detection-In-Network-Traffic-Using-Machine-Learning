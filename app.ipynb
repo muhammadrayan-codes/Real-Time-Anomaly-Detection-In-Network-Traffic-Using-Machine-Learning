{
  "cells": [
    {
      "cell_type": "code",
      "execution_count": 1,
      "id": "110f79c3-87fd-44a0-9b4e-bec997d04c07",
      "metadata": {
        "colab": {
          "base_uri": "https://localhost:8080/"
        },
        "id": "110f79c3-87fd-44a0-9b4e-bec997d04c07",
        "outputId": "660e762d-4135-4cc5-9dcd-e1ed5bec3d14"
      },
      "outputs": [
        {
          "name": "stdout",
          "output_type": "stream",
          "text": [
            "Requirement already satisfied: joblib in /usr/local/lib/python3.11/dist-packages (1.4.2)\n"
          ]
        }
      ],
      "source": [
        "!pip install joblib"
      ]
    },
    {
      "cell_type": "code",
      "execution_count": 2,
      "id": "a69d1784-5525-4717-9f7c-80da0abb939b",
      "metadata": {
        "colab": {
          "base_uri": "https://localhost:8080/"
        },
        "id": "a69d1784-5525-4717-9f7c-80da0abb939b",
        "outputId": "49ed663c-ce0d-4851-df80-b7fbf10140a8"
      },
      "outputs": [
        {
          "name": "stdout",
          "output_type": "stream",
          "text": [
            "Collecting scapy\n",
            "  Downloading scapy-2.6.1-py3-none-any.whl.metadata (5.6 kB)\n",
            "Requirement already satisfied: joblib in /usr/local/lib/python3.11/dist-packages (1.4.2)\n",
            "Downloading scapy-2.6.1-py3-none-any.whl (2.4 MB)\n",
            "\u001b[2K   \u001b[90m━━━━━━━━━━━━━━━━━━━━━━━━━━━━━━━━━━━━━━━━\u001b[0m \u001b[32m2.4/2.4 MB\u001b[0m \u001b[31m21.5 MB/s\u001b[0m eta \u001b[36m0:00:00\u001b[0m\n",
            "\u001b[?25hInstalling collected packages: scapy\n",
            "Successfully installed scapy-2.6.1\n"
          ]
        }
      ],
      "source": [
        "!pip install scapy joblib\n"
      ]
    },
    {
      "cell_type": "code",
      "execution_count": null,
      "id": "4714d008-0431-4b7f-86e4-ea5bd4f876e8",
      "metadata": {
        "id": "4714d008-0431-4b7f-86e4-ea5bd4f876e8"
      },
      "outputs": [],
      "source": [
        "#using csv file"
      ]
    },
    {
      "cell_type": "code",
      "execution_count": 5,
      "id": "17321027-d69c-4fbf-80dc-4b78561f37f5",
      "metadata": {
        "id": "17321027-d69c-4fbf-80dc-4b78561f37f5"
      },
      "outputs": [],
      "source": [
        "import pandas as pd\n",
        "import joblib\n",
        "import time\n",
        "import numpy as np\n",
        "\n",
        "model = joblib.load(\"network_intrusion_model2.pkl\")\n",
        "scaler = joblib.load(\"scaler.pkl\")\n",
        "\n",
        "selected_features = [\n",
        "    'PSH Flag Count',\n",
        "    'Bwd Packets/s',\n",
        "    'Init_Win_bytes_forward',\n",
        "    'Fwd IAT Total',\n",
        "    'URG Flag Count',\n",
        "    'Flow Duration',\n",
        "    'Bwd IAT Total',\n",
        "    'ACK Flag Count',\n",
        "    'Bwd Packet Length Min',\n",
        "    'Min Packet Length'\n",
        "]\n",
        "\n",
        "df = pd.read_csv(\"balanced_network_data3.csv\")\n",
        "df = df[selected_features + ['Label']].dropna()\n",
        "\n",
        "\n"
      ]
    },
    {
      "cell_type": "code",
      "execution_count": 6,
      "id": "23c774c7-990d-4079-b5bc-6180eed31b9c",
      "metadata": {
        "colab": {
          "base_uri": "https://localhost:8080/"
        },
        "id": "23c774c7-990d-4079-b5bc-6180eed31b9c",
        "outputId": "d62636fa-fda4-43fe-d67d-ace66049092b"
      },
      "outputs": [
        {
          "name": "stdout",
          "output_type": "stream",
          "text": [
            "Simulated Packet 1: Predicted = DDoS, Actual = DDoS\n"
          ]
        },
        {
          "name": "stdout",
          "output_type": "stream",
          "text": [
            "Simulated Packet 2: Predicted = PortScan, Actual = PortScan\n",
            "Simulated Packet 3: Predicted = PortScan, Actual = PortScan\n",
            "Simulated Packet 4: Predicted = SSH-Patator, Actual = SSH-Patator\n",
            "Simulated Packet 5: Predicted = DDoS, Actual = DDoS\n",
            "Simulated Packet 6: Predicted = SSH-Patator, Actual = SSH-Patator\n",
            "Simulated Packet 7: Predicted = FTP-Patator, Actual = FTP-Patator\n",
            "Simulated Packet 8: Predicted = FTP-Patator, Actual = FTP-Patator\n",
            "Simulated Packet 9: Predicted = PortScan, Actual = PortScan\n",
            "Simulated Packet 10: Predicted = DDoS, Actual = DDoS\n",
            "Simulated Packet 11: Predicted = DDoS, Actual = DDoS\n",
            "Simulated Packet 12: Predicted = BENIGN, Actual = BENIGN\n",
            "Simulated Packet 13: Predicted = PortScan, Actual = PortScan\n",
            "Simulated Packet 14: Predicted = BENIGN, Actual = BENIGN\n",
            "Simulated Packet 15: Predicted = BENIGN, Actual = BENIGN\n",
            "Simulated Packet 16: Predicted = BENIGN, Actual = BENIGN\n",
            "Simulated Packet 17: Predicted = SSH-Patator, Actual = SSH-Patator\n",
            "Simulated Packet 18: Predicted = SSH-Patator, Actual = SSH-Patator\n",
            "Simulated Packet 19: Predicted = SSH-Patator, Actual = SSH-Patator\n",
            "Simulated Packet 20: Predicted = DDoS, Actual = DDoS\n",
            "Simulated Packet 21: Predicted = BENIGN, Actual = BENIGN\n",
            "Simulated Packet 22: Predicted = DDoS, Actual = DDoS\n",
            "Simulated Packet 23: Predicted = FTP-Patator, Actual = FTP-Patator\n",
            "Simulated Packet 24: Predicted = PortScan, Actual = PortScan\n",
            "Simulated Packet 25: Predicted = PortScan, Actual = PortScan\n",
            "Simulated Packet 26: Predicted = BENIGN, Actual = BENIGN\n",
            "Simulated Packet 27: Predicted = SSH-Patator, Actual = SSH-Patator\n",
            "Simulated Packet 28: Predicted = FTP-Patator, Actual = FTP-Patator\n",
            "Simulated Packet 29: Predicted = PortScan, Actual = PortScan\n",
            "Simulated Packet 30: Predicted = BENIGN, Actual = BENIGN\n",
            "Simulated Packet 31: Predicted = FTP-Patator, Actual = FTP-Patator\n",
            "Simulated Packet 32: Predicted = DDoS, Actual = DDoS\n",
            "Simulated Packet 33: Predicted = PortScan, Actual = PortScan\n",
            "Simulated Packet 34: Predicted = BENIGN, Actual = BENIGN\n",
            "Simulated Packet 35: Predicted = FTP-Patator, Actual = FTP-Patator\n",
            "Simulated Packet 36: Predicted = BENIGN, Actual = BENIGN\n",
            "Simulated Packet 37: Predicted = SSH-Patator, Actual = SSH-Patator\n",
            "Simulated Packet 38: Predicted = PortScan, Actual = PortScan\n",
            "Simulated Packet 39: Predicted = FTP-Patator, Actual = FTP-Patator\n",
            "Simulated Packet 40: Predicted = SSH-Patator, Actual = SSH-Patator\n",
            "Simulated Packet 41: Predicted = DDoS, Actual = DDoS\n",
            "Simulated Packet 42: Predicted = FTP-Patator, Actual = FTP-Patator\n",
            "Simulated Packet 43: Predicted = DDoS, Actual = DDoS\n",
            "Simulated Packet 44: Predicted = SSH-Patator, Actual = SSH-Patator\n",
            "Simulated Packet 45: Predicted = FTP-Patator, Actual = FTP-Patator\n",
            "Simulated Packet 46: Predicted = BENIGN, Actual = BENIGN\n",
            "Simulated Packet 47: Predicted = SSH-Patator, Actual = SSH-Patator\n",
            "Simulated Packet 48: Predicted = DDoS, Actual = DDoS\n",
            "Simulated Packet 49: Predicted = FTP-Patator, Actual = FTP-Patator\n",
            "Simulated Packet 50: Predicted = PortScan, Actual = PortScan\n"
          ]
        }
      ],
      "source": [
        "import warnings\n",
        "warnings.filterwarnings('ignore')\n",
        "\n",
        "df_shuffled = df.sample(frac=1, random_state=42).reset_index(drop=True)\n",
        "\n",
        "for index, row in df_shuffled.iterrows():\n",
        "    features = row[selected_features].values.reshape(1, -1)\n",
        "    scaled_features = scaler.transform(features)\n",
        "    prediction = model.predict(features)[0]\n",
        "\n",
        "    print(f\"Simulated Packet {index + 1}: Predicted = {prediction}, Actual = {row['Label']}\")\n",
        "\n",
        "    time.sleep(0.5)\n",
        "\n",
        "#press i twice to stop the packet capture"
      ]
    },
    {
      "cell_type": "code",
      "execution_count": 1,
      "id": "a047b43e-7344-4b67-8219-3fc32a5acfd1",
      "metadata": {
        "colab": {
          "base_uri": "https://localhost:8080/",
          "height": 535
        },
        "id": "a047b43e-7344-4b67-8219-3fc32a5acfd1",
        "outputId": "ca488d03-8a61-415a-ce44-60ed46d9b5d3"
      },
      "outputs": [
        {
          "ename": "FileNotFoundError",
          "evalue": "[Errno 2] No such file or directory: 'network_intrusion_model2.pkl'",
          "output_type": "error",
          "traceback": [
            "\u001b[1;31m---------------------------------------------------------------------------\u001b[0m",
            "\u001b[1;31mFileNotFoundError\u001b[0m                         Traceback (most recent call last)",
            "Cell \u001b[1;32mIn[1], line 14\u001b[0m\n\u001b[0;32m     11\u001b[0m warnings\u001b[38;5;241m.\u001b[39mfilterwarnings(\u001b[38;5;124m'\u001b[39m\u001b[38;5;124mignore\u001b[39m\u001b[38;5;124m'\u001b[39m)\n\u001b[0;32m     13\u001b[0m \u001b[38;5;66;03m# Load model and scaler\u001b[39;00m\n\u001b[1;32m---> 14\u001b[0m model \u001b[38;5;241m=\u001b[39m \u001b[43mjoblib\u001b[49m\u001b[38;5;241;43m.\u001b[39;49m\u001b[43mload\u001b[49m\u001b[43m(\u001b[49m\u001b[38;5;124;43m'\u001b[39;49m\u001b[38;5;124;43mnetwork_intrusion_model2.pkl\u001b[39;49m\u001b[38;5;124;43m'\u001b[39;49m\u001b[43m)\u001b[49m\n\u001b[0;32m     15\u001b[0m scaler \u001b[38;5;241m=\u001b[39m joblib\u001b[38;5;241m.\u001b[39mload(\u001b[38;5;124m'\u001b[39m\u001b[38;5;124mscaler.pkl\u001b[39m\u001b[38;5;124m'\u001b[39m)\n\u001b[0;32m     17\u001b[0m selected_features \u001b[38;5;241m=\u001b[39m [\n\u001b[0;32m     18\u001b[0m     \u001b[38;5;124m'\u001b[39m\u001b[38;5;124mPSH Flag Count\u001b[39m\u001b[38;5;124m'\u001b[39m, \u001b[38;5;124m'\u001b[39m\u001b[38;5;124mBwd Packets/s\u001b[39m\u001b[38;5;124m'\u001b[39m, \u001b[38;5;124m'\u001b[39m\u001b[38;5;124mInit_Win_bytes_forward\u001b[39m\u001b[38;5;124m'\u001b[39m,\n\u001b[0;32m     19\u001b[0m     \u001b[38;5;124m'\u001b[39m\u001b[38;5;124mFwd IAT Total\u001b[39m\u001b[38;5;124m'\u001b[39m, \u001b[38;5;124m'\u001b[39m\u001b[38;5;124mURG Flag Count\u001b[39m\u001b[38;5;124m'\u001b[39m, \u001b[38;5;124m'\u001b[39m\u001b[38;5;124mFlow Duration\u001b[39m\u001b[38;5;124m'\u001b[39m,\n\u001b[0;32m     20\u001b[0m     \u001b[38;5;124m'\u001b[39m\u001b[38;5;124mBwd IAT Total\u001b[39m\u001b[38;5;124m'\u001b[39m, \u001b[38;5;124m'\u001b[39m\u001b[38;5;124mACK Flag Count\u001b[39m\u001b[38;5;124m'\u001b[39m, \u001b[38;5;124m'\u001b[39m\u001b[38;5;124mBwd Packet Length Min\u001b[39m\u001b[38;5;124m'\u001b[39m, \u001b[38;5;124m'\u001b[39m\u001b[38;5;124mMin Packet Length\u001b[39m\u001b[38;5;124m'\u001b[39m\n\u001b[0;32m     21\u001b[0m ]\n",
            "File \u001b[1;32mc:\\Users\\LENOVO\\AppData\\Local\\Programs\\Python\\Python39\\lib\\site-packages\\joblib\\numpy_pickle.py:650\u001b[0m, in \u001b[0;36mload\u001b[1;34m(filename, mmap_mode)\u001b[0m\n\u001b[0;32m    648\u001b[0m         obj \u001b[38;5;241m=\u001b[39m _unpickle(fobj)\n\u001b[0;32m    649\u001b[0m \u001b[38;5;28;01melse\u001b[39;00m:\n\u001b[1;32m--> 650\u001b[0m     \u001b[38;5;28;01mwith\u001b[39;00m \u001b[38;5;28;43mopen\u001b[39;49m\u001b[43m(\u001b[49m\u001b[43mfilename\u001b[49m\u001b[43m,\u001b[49m\u001b[43m \u001b[49m\u001b[38;5;124;43m'\u001b[39;49m\u001b[38;5;124;43mrb\u001b[39;49m\u001b[38;5;124;43m'\u001b[39;49m\u001b[43m)\u001b[49m \u001b[38;5;28;01mas\u001b[39;00m f:\n\u001b[0;32m    651\u001b[0m         \u001b[38;5;28;01mwith\u001b[39;00m _read_fileobject(f, filename, mmap_mode) \u001b[38;5;28;01mas\u001b[39;00m fobj:\n\u001b[0;32m    652\u001b[0m             \u001b[38;5;28;01mif\u001b[39;00m \u001b[38;5;28misinstance\u001b[39m(fobj, \u001b[38;5;28mstr\u001b[39m):\n\u001b[0;32m    653\u001b[0m                 \u001b[38;5;66;03m# if the returned file object is a string, this means we\u001b[39;00m\n\u001b[0;32m    654\u001b[0m                 \u001b[38;5;66;03m# try to load a pickle file generated with an version of\u001b[39;00m\n\u001b[0;32m    655\u001b[0m                 \u001b[38;5;66;03m# Joblib so we load it with joblib compatibility function.\u001b[39;00m\n",
            "\u001b[1;31mFileNotFoundError\u001b[0m: [Errno 2] No such file or directory: 'network_intrusion_model2.pkl'"
          ]
        }
      ],
      "source": [
        "import tkinter as tk\n",
        "from tkinter import filedialog, scrolledtext\n",
        "import pandas as pd\n",
        "import joblib\n",
        "import threading\n",
        "import time\n",
        "import numpy as np\n",
        "from scapy.all import sniff, IP, TCP\n",
        "import warnings\n",
        "import sys\n",
        "warnings.filterwarnings('ignore')\n",
        "\n",
        "# Load model and scaler\n",
        "model = joblib.load('network_intrusion_model2.pkl')\n",
        "scaler = joblib.load('scaler.pkl')\n",
        "\n",
        "selected_features = [\n",
        "    'PSH Flag Count', 'Bwd Packets/s', 'Init_Win_bytes_forward',\n",
        "    'Fwd IAT Total', 'URG Flag Count', 'Flow Duration',\n",
        "    'Bwd IAT Total', 'ACK Flag Count', 'Bwd Packet Length Min', 'Min Packet Length'\n",
        "]\n",
        "\n",
        "flow_data = {\"start_time\": None, \"packet_lengths\": [], \"iat_times\": [], \"packet_count\": 0, \"bwd_packet_count\": 0}\n",
        "stop_sniffing = False\n",
        "\n",
        "# === Redirect print output to GUI ===\n",
        "class TextRedirector:\n",
        "    def __init__(self, widget):\n",
        "        self.widget = widget\n",
        "\n",
        "    def write(self, message):\n",
        "        self.widget.insert(tk.END, message)\n",
        "        self.widget.see(tk.END)\n",
        "\n",
        "    def flush(self):\n",
        "        pass\n",
        "\n",
        "# === GUI Application ===\n",
        "class AnomalyApp:\n",
        "    def __init__(self, root):\n",
        "        self.root = root\n",
        "        self.root.title(\"Real-Time Network Anomaly Detection\")\n",
        "        self.root.geometry(\"960x620\")\n",
        "        self.current_frame = None\n",
        "        self.create_welcome_screen()\n",
        "\n",
        "    def clear_frame(self):\n",
        "        if self.current_frame:\n",
        "            self.current_frame.destroy()\n",
        "\n",
        "    def create_welcome_screen(self):\n",
        "        self.clear_frame()\n",
        "        frame = tk.Frame(self.root)\n",
        "        frame.pack(expand=True)\n",
        "\n",
        "        tk.Label(frame, text=\"Computer Networks Course\", font=(\"Helvetica\", 20)).pack(pady=10)\n",
        "        tk.Label(frame, text=\"Real-Time Network Anomaly Detection Project\", font=(\"Helvetica\", 16)).pack(pady=5)\n",
        "        tk.Label(frame, text=\"By 22K-4332 and 22K-4547\", font=(\"Helvetica\", 14)).pack(pady=5)\n",
        "        tk.Button(frame, text=\"Proceed\", font=(\"Helvetica\", 14), command=self.create_simulation_screen).pack(pady=20)\n",
        "\n",
        "        self.current_frame = frame\n",
        "\n",
        "    def create_simulation_screen(self):\n",
        "        self.clear_frame()\n",
        "        frame = tk.Frame(self.root)\n",
        "        frame.pack(fill=tk.BOTH, expand=True)\n",
        "\n",
        "        tk.Label(frame, text=\"Model Test Data Simulation\", font=(\"Helvetica\", 16)).pack(pady=10)\n",
        "\n",
        "        self.sim_output = scrolledtext.ScrolledText(frame, width=100, height=25)\n",
        "        self.sim_output.pack(pady=10)\n",
        "\n",
        "        # Redirect print to GUI\n",
        "        sys.stdout = TextRedirector(self.sim_output)\n",
        "\n",
        "        self.next_button = tk.Button(frame, text=\"Go to Real-Time Detection\", command=self.create_realtime_screen)\n",
        "        self.next_button.pack(pady=10)\n",
        "        self.next_button.config(state=tk.DISABLED)\n",
        "\n",
        "        self.current_frame = frame\n",
        "        threading.Thread(target=self.run_simulation).start()\n",
        "\n",
        "    def run_simulation(self):\n",
        "        try:\n",
        "            df = pd.read_csv(\"balanced_network_data3.csv\")\n",
        "            df_shuffled = df.sample(frac=1, random_state=42).reset_index(drop=True)\n",
        "\n",
        "            for index, row in df_shuffled.iterrows():\n",
        "                features = row[selected_features].values.reshape(1, -1)\n",
        "                scaled_features = scaler.transform(features)\n",
        "                prediction = model.predict(features)[0]\n",
        "                actual = row['Label']\n",
        "\n",
        "                print(f\"Simulated Packet {index + 1}: Predicted = {prediction}, Actual = {actual}\")\n",
        "                time.sleep(0.5)\n",
        "\n",
        "            self.next_button.config(state=tk.NORMAL)\n",
        "\n",
        "        except Exception as e:\n",
        "            print(f\"Error: {str(e)}\")\n",
        "\n",
        "    def create_realtime_screen(self):\n",
        "        self.clear_frame()\n",
        "        frame = tk.Frame(self.root)\n",
        "        frame.pack(fill=tk.BOTH, expand=True)\n",
        "\n",
        "        tk.Label(frame, text=\"Real-Time Anomaly Detection\", font=(\"Helvetica\", 16)).pack(pady=10)\n",
        "\n",
        "        self.real_output = scrolledtext.ScrolledText(frame, width=100, height=25)\n",
        "        self.real_output.pack(pady=10)\n",
        "        self.real_output.tag_configure(\"attack\", foreground=\"red\")\n",
        "\n",
        "        tk.Button(frame, text=\"Start Detection\", command=self.start_sniffing).pack(pady=5)\n",
        "        tk.Button(frame, text=\"Stop Detection\", command=self.stop_sniffing_func).pack(pady=5)\n",
        "\n",
        "        self.current_frame = frame\n",
        "\n",
        "    def extract_features(self, pkt):\n",
        "        global flow_data\n",
        "        if not pkt.haslayer(IP) or not pkt.haslayer(TCP):\n",
        "            return None\n",
        "        ip, tcp, now = pkt[IP], pkt[TCP], time.time()\n",
        "        if flow_data[\"start_time\"] is None:\n",
        "            flow_data[\"start_time\"] = now\n",
        "        flow_duration = now - flow_data[\"start_time\"]\n",
        "        if flow_data[\"packet_count\"] > 0:\n",
        "            flow_data[\"iat_times\"].append(now - flow_data[\"last_pkt_time\"])\n",
        "        flow_data[\"last_pkt_time\"] = now\n",
        "        flow_data[\"packet_lengths\"].append(len(pkt))\n",
        "        flow_data[\"packet_count\"] += 1\n",
        "        if ip.dst == pkt[IP].src:\n",
        "            flow_data[\"bwd_packet_count\"] += 1\n",
        "        bwd_packet_rate = flow_data[\"bwd_packet_count\"] / flow_duration if flow_duration > 0 else 0\n",
        "        min_pkt_length = min(flow_data[\"packet_lengths\"]) if flow_data[\"packet_lengths\"] else 0\n",
        "        features = [\n",
        "            1 if tcp.flags & 0x08 else 0, bwd_packet_rate, tcp.window,\n",
        "            sum(flow_data[\"iat_times\"]), 1 if tcp.flags & 0x20 else 0,\n",
        "            flow_duration, sum(flow_data[\"iat_times\"]), 1 if tcp.flags & 0x10 else 0,\n",
        "            min_pkt_length, min_pkt_length\n",
        "        ]\n",
        "        return np.array(features).reshape(1, -1)\n",
        "\n",
        "    def predict_packet(self, pkt):\n",
        "        if stop_sniffing:\n",
        "            return True\n",
        "        features = self.extract_features(pkt)\n",
        "        if features is None:\n",
        "            return\n",
        "        scaled = scaler.transform(features)\n",
        "        prediction = model.predict(scaled)[0]\n",
        "        if prediction == 1:\n",
        "            self.real_output.insert(tk.END, f\"Prediction: Anomaly Detected\\n\", \"attack\")\n",
        "        else:\n",
        "            self.real_output.insert(tk.END, f\"Prediction: Benign\\n\")\n",
        "        self.real_output.see(tk.END)\n",
        "\n",
        "    def start_sniffing(self):\n",
        "        global stop_sniffing\n",
        "        stop_sniffing = False\n",
        "        self.real_output.insert(tk.END, \"Real-time sniffing started...\\n\")\n",
        "        threading.Thread(target=lambda: sniff(prn=self.predict_packet, filter=\"tcp\", store=0)).start()\n",
        "\n",
        "    def stop_sniffing_func(self):\n",
        "        global stop_sniffing\n",
        "        stop_sniffing = True\n",
        "        self.real_output.insert(tk.END, \"Sniffing stopped.\\n\")\n",
        "\n",
        "# === Start GUI ===\n",
        "if __name__ == \"__main__\":\n",
        "    root = tk.Tk()\n",
        "    app = AnomalyApp(root)\n",
        "    root.mainloop()\n"
      ]
    }
  ],
  "metadata": {
    "colab": {
      "provenance": []
    },
    "kernelspec": {
      "display_name": "Python 3",
      "language": "python",
      "name": "python3"
    },
    "language_info": {
      "codemirror_mode": {
        "name": "ipython",
        "version": 3
      },
      "file_extension": ".py",
      "mimetype": "text/x-python",
      "name": "python",
      "nbconvert_exporter": "python",
      "pygments_lexer": "ipython3",
      "version": "3.9.7"
    }
  },
  "nbformat": 4,
  "nbformat_minor": 5
}
